{
  "nbformat": 4,
  "nbformat_minor": 0,
  "metadata": {
    "colab": {
      "provenance": []
    },
    "kernelspec": {
      "display_name": "Python 3",
      "name": "python3"
    },
    "language_info": {
      "name": "python"
    },
    "accelerator": "GPU"
  },
  "cells": [
    {
      "cell_type": "code",
      "metadata": {
        "id": "V1UCV_P3Yi2O"
      },
      "source": [
        "def stringToList(input):\n",
        "  lst = []\n",
        "  for i in input:\n",
        "    l = list(map(float, i.split(\" \")))\n",
        "    lst.append(l)\n",
        "  return lst"
      ],
      "execution_count": null,
      "outputs": []
    },
    {
      "cell_type": "code",
      "metadata": {
        "id": "ghBNEuzYYpeh"
      },
      "source": [
        "def moodNamePrintFromLabel(n):\n",
        "  if n == 0: result = 'Angry '\n",
        "  elif n == 1: result = 'Disgust '\n",
        "  elif n == 2: result = 'Fear'\n",
        "  elif n == 3: result = 'Happy'\n",
        "  elif n == 4: result = 'Sad'\n",
        "  elif n == 5: result = 'Surprise'\n",
        "  elif n == 6: result = 'Neutral'\n",
        "  return result\n"
      ],
      "execution_count": null,
      "outputs": []
    },
    {
      "cell_type": "code",
      "metadata": {
        "colab": {
          "base_uri": "https://localhost:8080/"
        },
        "id": "ClXgteDBYsaA",
        "outputId": "dd7102fa-a1a0-4262-b676-b4893c6cb87b"
      },
      "source": [
        "from google.colab import drive\n",
        "drive.mount('/content/drive')"
      ],
      "execution_count": null,
      "outputs": [
        {
          "output_type": "stream",
          "name": "stdout",
          "text": [
            "Drive already mounted at /content/drive; to attempt to forcibly remount, call drive.mount(\"/content/drive\", force_remount=True).\n"
          ]
        }
      ]
    },
    {
      "cell_type": "code",
      "metadata": {
        "id": "FxQNUgfKYuDH"
      },
      "source": [
        "import pandas as pd\n",
        "import numpy as np\n",
        "\n",
        "data = pd.read_csv('/content/drive/MyDrive/ML Project/Datasets/train.csv') # train data folder link\n",
        "test_data = pd.read_csv('/content/drive/MyDrive/ML Project/Datasets/test.csv') # test data folder link"
      ],
      "execution_count": null,
      "outputs": []
    },
    {
      "cell_type": "code",
      "metadata": {
        "id": "HvYT4I73YxLP"
      },
      "source": [
        "X = data['pixels']\n",
        "Y = np.array(data['emotion'])\n",
        "\n",
        "testDataset_X = np.array(test_data['pixels'])\n",
        "\n",
        "X = np.array(stringToList(X))/255.0\n",
        "X = np.reshape(X, (28709, 48,48,1))\n",
        "\n",
        "testDataset_X = np.array(stringToList(testDataset_X))\n",
        "testDataset_X = np.reshape(testDataset_X, (7178,48,48,1)) /255.0\n"
      ],
      "execution_count": null,
      "outputs": []
    },
    {
      "cell_type": "code",
      "metadata": {
        "id": "HZ52-ohAY0uw",
        "colab": {
          "base_uri": "https://localhost:8080/"
        },
        "outputId": "40120a86-e306-4e64-b583-f931e9cecde2"
      },
      "source": [
        "print(X.shape)\n",
        "print(Y.shape)"
      ],
      "execution_count": null,
      "outputs": [
        {
          "output_type": "stream",
          "name": "stdout",
          "text": [
            "(28709, 48, 48, 1)\n",
            "(28709,)\n"
          ]
        }
      ]
    },
    {
      "cell_type": "code",
      "metadata": {
        "id": "UOSIDPUrY2zf"
      },
      "source": [
        "from sklearn.model_selection import train_test_split\n",
        "x_trainDataset, x_testDataset, y_trainDataset, y_testDataset = train_test_split(X, Y, test_size = 0.2)"
      ],
      "execution_count": null,
      "outputs": []
    },
    {
      "cell_type": "code",
      "metadata": {
        "id": "Hci8AuZ3Y4ru"
      },
      "source": [
        "import tensorflow as tf\n",
        "from tensorflow.keras.models import Sequential\n",
        "from tensorflow.keras.layers import Dense, Activation, Flatten, Conv2D, Dropout, MaxPooling2D, BatchNormalization"
      ],
      "execution_count": null,
      "outputs": []
    },
    {
      "cell_type": "code",
      "metadata": {
        "id": "euPaDPZjY-gi",
        "colab": {
          "base_uri": "https://localhost:8080/"
        },
        "outputId": "9663f348-4eb4-4656-9079-1f9730e2db6c"
      },
      "source": [
        "model = Sequential()\n",
        "#1st convo\n",
        "model.add(Conv2D(96, (3,3), input_shape = (48,48,1)))\n",
        "model.add(Activation('relu'))\n",
        "#polling\n",
        "model.add(MaxPooling2D(pool_size=(2,2)))\n",
        "model.add(BatchNormalization())\n",
        "\n",
        "\n",
        "#2nd convo\n",
        "model.add(Conv2D(256, (3,3)))\n",
        "model.add(Activation('relu'))\n",
        "#polling\n",
        "model.add(MaxPooling2D(pool_size=(2,2)))\n",
        "model.add(BatchNormalization())\n",
        "\n",
        "#3rd convo\n",
        "model.add(Conv2D(384, (3,3)))\n",
        "model.add(Activation('relu'))\n",
        "#polling\n",
        "model.add(MaxPooling2D(pool_size=(2,2)))\n",
        "model.add(BatchNormalization())\n",
        "\n",
        "#4th convo\n",
        "model.add(Conv2D(256, (3,3)))\n",
        "model.add(Activation('relu'))\n",
        "#polling\n",
        "model.add(MaxPooling2D(pool_size=(2,2)))\n",
        "model.add(BatchNormalization())\n",
        "\n",
        "\n",
        "\n",
        "\n",
        "#passing through dense layer\n",
        "model.add(Flatten())\n",
        "\n",
        "#1st dense layer\n",
        "model.add(Dense(1024))\n",
        "model.add(Activation('relu'))\n",
        "\n",
        "\n",
        "\n",
        "#dropout\n",
        "model.add(BatchNormalization())\n",
        "model.add(Dropout(0.4))\n",
        "\n",
        "\n",
        "#2nd dense layer\n",
        "model.add(Dense(1024))\n",
        "model.add(Activation('relu'))\n",
        "\n",
        "\n",
        "\n",
        "\n",
        "#dropout\n",
        "model.add(BatchNormalization())\n",
        "model.add(Dropout(0.4))\n",
        "\n",
        "\n",
        "#3rd dense layer\n",
        "model.add(Dense(256))\n",
        "model.add(Activation('relu'))\n",
        "\n",
        "#4th dense layer\n",
        "model.add(Dense(256))\n",
        "model.add(BatchNormalization())\n",
        "model.add(Activation('relu'))\n",
        "model.add(Dropout(0.25))\n",
        "\n",
        "#dropout\n",
        "model.add(Dropout(0.4))\n",
        "model.add(BatchNormalization())\n",
        "model.add(Activation('relu'))\n",
        "\n",
        "\n",
        "#output layer\n",
        "model.add(Dense(7))\n",
        "model.add(Activation('softmax'))\n",
        "\n",
        "model.compile(loss=\"sparse_categorical_crossentropy\",\n",
        "              optimizer = \"adam\",\n",
        "              metrics = ['sparse_categorical_accuracy'])\n",
        "model.fit(x_trainDataset, y_trainDataset, batch_size=32, epochs=13, validation_split=0.1)"
      ],
      "execution_count": null,
      "outputs": [
        {
          "output_type": "stream",
          "name": "stdout",
          "text": [
            "Epoch 1/13\n",
            "646/646 [==============================] - 30s 43ms/step - loss: 1.8202 - sparse_categorical_accuracy: 0.3075 - val_loss: 2.2717 - val_sparse_categorical_accuracy: 0.1241\n",
            "Epoch 2/13\n",
            "646/646 [==============================] - 27s 42ms/step - loss: 1.4067 - sparse_categorical_accuracy: 0.4593 - val_loss: 1.2932 - val_sparse_categorical_accuracy: 0.5054\n",
            "Epoch 3/13\n",
            "646/646 [==============================] - 27s 42ms/step - loss: 1.2587 - sparse_categorical_accuracy: 0.5245 - val_loss: 1.2238 - val_sparse_categorical_accuracy: 0.5303\n",
            "Epoch 4/13\n",
            "646/646 [==============================] - 27s 42ms/step - loss: 1.1622 - sparse_categorical_accuracy: 0.5620 - val_loss: 1.2299 - val_sparse_categorical_accuracy: 0.5398\n",
            "Epoch 5/13\n",
            "646/646 [==============================] - 27s 42ms/step - loss: 1.0581 - sparse_categorical_accuracy: 0.6043 - val_loss: 1.2543 - val_sparse_categorical_accuracy: 0.5324\n",
            "Epoch 6/13\n",
            "646/646 [==============================] - 27s 42ms/step - loss: 0.9538 - sparse_categorical_accuracy: 0.6470 - val_loss: 1.2666 - val_sparse_categorical_accuracy: 0.5433\n",
            "Epoch 7/13\n",
            "646/646 [==============================] - 27s 42ms/step - loss: 0.8174 - sparse_categorical_accuracy: 0.7010 - val_loss: 1.2418 - val_sparse_categorical_accuracy: 0.5533\n",
            "Epoch 8/13\n",
            "646/646 [==============================] - 27s 42ms/step - loss: 0.6777 - sparse_categorical_accuracy: 0.7584 - val_loss: 1.2480 - val_sparse_categorical_accuracy: 0.5577\n",
            "Epoch 9/13\n",
            "646/646 [==============================] - 27s 42ms/step - loss: 0.5289 - sparse_categorical_accuracy: 0.8137 - val_loss: 1.3178 - val_sparse_categorical_accuracy: 0.5568\n",
            "Epoch 10/13\n",
            "646/646 [==============================] - 27s 42ms/step - loss: 0.4084 - sparse_categorical_accuracy: 0.8561 - val_loss: 1.4490 - val_sparse_categorical_accuracy: 0.5481\n",
            "Epoch 11/13\n",
            "646/646 [==============================] - 27s 42ms/step - loss: 0.3260 - sparse_categorical_accuracy: 0.8871 - val_loss: 1.4834 - val_sparse_categorical_accuracy: 0.5760\n",
            "Epoch 12/13\n",
            "646/646 [==============================] - 27s 42ms/step - loss: 0.2626 - sparse_categorical_accuracy: 0.9119 - val_loss: 1.6019 - val_sparse_categorical_accuracy: 0.5477\n",
            "Epoch 13/13\n",
            "646/646 [==============================] - 27s 42ms/step - loss: 0.2246 - sparse_categorical_accuracy: 0.9241 - val_loss: 1.5943 - val_sparse_categorical_accuracy: 0.5620\n"
          ]
        },
        {
          "output_type": "execute_result",
          "data": {
            "text/plain": [
              "<keras.callbacks.History at 0x7f5cdd6a8950>"
            ]
          },
          "metadata": {},
          "execution_count": 29
        }
      ]
    },
    {
      "cell_type": "code",
      "metadata": {
        "id": "EbCbFkpNZAh_"
      },
      "source": [
        "model.save('/content/drive/MyDrive/ML Project/AI/model.h5') # Where to save the model (folder link)"
      ],
      "execution_count": null,
      "outputs": []
    },
    {
      "cell_type": "code",
      "metadata": {
        "id": "PgZTUf6LZD7v"
      },
      "source": [
        "from keras.models import load_model\n",
        "loaded_model = load_model('/content/drive/MyDrive/ML Project/AI/model.h5') # saved model file link"
      ],
      "execution_count": null,
      "outputs": []
    },
    {
      "cell_type": "code",
      "metadata": {
        "id": "-M2M7ZnGZInf",
        "colab": {
          "base_uri": "https://localhost:8080/"
        },
        "outputId": "1f85abc1-64a8-4906-a297-bc19d9450b59"
      },
      "source": [
        "score = loaded_model.evaluate(x_testDataset, y_testDataset, verbose=1)"
      ],
      "execution_count": null,
      "outputs": [
        {
          "output_type": "stream",
          "name": "stdout",
          "text": [
            "180/180 [==============================] - 3s 16ms/step - loss: 1.6154 - sparse_categorical_accuracy: 0.5510\n"
          ]
        }
      ]
    },
    {
      "cell_type": "code",
      "metadata": {
        "id": "FNCuV-iVkU0K"
      },
      "source": [
        "import cv2\n",
        "from PIL import Image\n",
        "import matplotlib.pyplot as plt\n",
        "from google.colab.patches import cv2_imshow\n",
        "\n",
        "\n",
        "def videoToMoodDetection(video_path):\n",
        "  #video_cap = cv2.VideoCapture(0)\n",
        "  video_cap = cv2.VideoCapture(video_path)\n",
        "\n",
        "  while (video_cap.isOpened()):\n",
        "    ret, frame = video_cap.read()\n",
        "\n",
        "    BW_img = cv2.cvtColor(frame, cv2.COLOR_BGR2GRAY)\n",
        "    face_cascade = cv2.CascadeClassifier(cv2.data.haarcascades + 'haarcascade_frontalface_default.xml')\n",
        "    faces = face_cascade.detectMultiScale(BW_img, 1.3, 5)\n",
        "\n",
        "    for (x,y,w,h) in faces:\n",
        "      pxl_lst = []\n",
        "      for i in range(y, y+h):\n",
        "        lst = []\n",
        "        for j in range(x, x+w):\n",
        "          lst.append(BW_img[i][j])\n",
        "        pxl_lst.append(lst)\n",
        "      face_emotion = np.array(pxl_lst)\n",
        "      \n",
        "      \n",
        "      resized_img = cv2.resize(face_emotion, (48,48), interpolation = cv2.INTER_AREA)\n",
        "\n",
        "      #printing the 48*48 pixel images which will be passed to the model\n",
        "      cv2_imshow(resized_img)\n",
        "      \n",
        "      #resize for passing to the model\n",
        "      resized_img = np.reshape(resized_img,(1,48,48,1))/255.0\n",
        "\n",
        "      #passing to model\n",
        "      result = np.argmax(loaded_model.predict(resized_img), axis=-1)\n",
        "      if result is not None:\n",
        "        print(moodNamePrintFromLabel(result))\n",
        "  \n",
        "\n",
        "\n",
        "def imageToMoodDetection(img_path):\n",
        "\n",
        "  img = cv2.imread(img_path)\n",
        "\n",
        "  BW_img = cv2.cvtColor(img, cv2.COLOR_BGR2GRAY)\n",
        "  face_cascade = cv2.CascadeClassifier(cv2.data.haarcascades + 'haarcascade_frontalface_default.xml')\n",
        "  faces = face_cascade.detectMultiScale(BW_img, 1.3, 3)\n",
        "\n",
        "  for (x,y,w,h) in faces:\n",
        "      pxl_lst = []\n",
        "      for i in range(y, y+h):\n",
        "        lst = []\n",
        "        for j in range(x, x+w):\n",
        "          lst.append(BW_img[i][j])\n",
        "        pxl_lst.append(lst)\n",
        "      face_emotion = np.array(pxl_lst)\n",
        "      face_emotion = np.reshape(face_emotion,(h,w,))\n",
        "  \n",
        "      resized_img = cv2.resize(face_emotion, (48,48), interpolation = cv2.INTER_AREA)\n",
        "      cv2_imshow(resized_img)\n",
        "      print(resized_img.shape)\n",
        "      resized_img = np.reshape(resized_img,(1,48,48,1))/255.0\n",
        "\n",
        "      #passing to model\n",
        "      result = np.argmax(loaded_model.predict(resized_img), axis=-1)\n",
        "      if result is not None:\n",
        "        print(moodNamePrintFromLabel(result))\n",
        "\n",
        "  "
      ],
      "execution_count": null,
      "outputs": []
    },
    {
      "cell_type": "code",
      "metadata": {
        "id": "sMZQKF8LkW9o",
        "colab": {
          "base_uri": "https://localhost:8080/",
          "height": 100
        },
        "outputId": "3b45f984-c178-44bf-e8ad-69b447ea8627"
      },
      "source": [
        "imageToMoodDetection('/content/drive/MyDrive/ML Project/AI/Mood.jpg') # tesing with imgae (image link)"
      ],
      "execution_count": null,
      "outputs": [
        {
          "output_type": "display_data",
          "data": {
            "image/png": "[encoded data removed]",
            "text/plain": [
              "<PIL.Image.Image image mode=L size=48x48 at 0x7F5CA0094510>"
            ]
          },
          "metadata": {}
        },
        {
          "output_type": "stream",
          "name": "stdout",
          "text": [
            "(48, 48)\n",
            "Happy\n"
          ]
        }
      ]
    },
    {
      "cell_type": "code",
      "metadata": {
        "id": "MEKEzkMEFbyp",
        "colab": {
          "base_uri": "https://localhost:8080/",
          "height": 497
        },
        "outputId": "ca1e3ce7-d584-47af-e685-a59b167dabbe"
      },
      "source": [
        "# Creating Confusion matrix\n",
        "from sklearn.metrics import confusion_matrix, classification_report\n",
        "from mlxtend.plotting import plot_confusion_matrix\n",
        "emotions = {0: 'Angry', 1: 'Disgust', 2: 'Fear', 3: 'Happy', 4: 'Sad', 5: 'Surprise', 6: 'Neutral'}\n",
        "\n",
        "def prepare_dataset(dataset):\n",
        "    dataArray = np.zeros(shape=(len(dataset), 48, 48, 1))\n",
        "    dataLabel = np.array(list(map(int, dataset['emotion'])))\n",
        "\n",
        "    for i, row in enumerate(dataset.index):\n",
        "        data = np.fromstring(dataset.loc[row, 'pixels'], dtype=int, sep=' ')\n",
        "        data = np.reshape(data, (48, 48)) \n",
        "        dataArray[i, :, :, 0] = data / 255\n",
        "\n",
        "    return dataArray, dataLabel\n",
        "\n",
        "\n",
        "\n",
        "dataset = pd.read_csv('/content/drive/MyDrive/ML Project/Datasets/train.csv')\n",
        "test_dataset, test_dataset_labels = prepare_dataset(dataset)\n",
        "test_probable = model.predict(test_dataset)\n",
        "test_predicted = np.argmax(test_probable, axis=1)\n",
        "\n",
        "\n",
        "#Ploting Confusion matrix\n",
        "confusionMatrix = confusion_matrix(test_dataset_labels, test_predicted)\n",
        "fig, ax = plot_confusion_matrix(conf_mat=confusionMatrix,show_normed=True,show_absolute=False,figsize=(15, 8))\n",
        "fig.show()\n"
      ],
      "execution_count": null,
      "outputs": [
        {
          "output_type": "display_data",
          "data": {
            "image/png": "[encoded data removed]",
            "text/plain": [
              "<Figure size 1080x576 with 1 Axes>"
            ]
          },
          "metadata": {
            "needs_background": "light"
          }
        }
      ]
    }
  ]
}